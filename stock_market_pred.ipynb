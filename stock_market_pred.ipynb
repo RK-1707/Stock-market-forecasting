{
  "nbformat": 4,
  "nbformat_minor": 0,
  "metadata": {
    "colab": {
      "name": "stock_market_pred.ipynb",
      "provenance": [],
      "collapsed_sections": [],
      "toc_visible": true
    },
    "kernelspec": {
      "name": "python3",
      "display_name": "Python 3"
    }
  },
  "cells": [
    {
      "cell_type": "markdown",
      "metadata": {
        "id": "2PEEiE4YQDns",
        "colab_type": "text"
      },
      "source": [
        "# ***STOCK MARKET FORECASTING***\n",
        "\n",
        "---\n",
        "\n"
      ]
    },
    {
      "cell_type": "code",
      "metadata": {
        "id": "IIlAl6fmP9L2",
        "colab_type": "code",
        "colab": {
          "base_uri": "https://localhost:8080/",
          "height": 37
        },
        "outputId": "919baaab-03dd-468d-8e01-772f2bc688a1"
      },
      "source": [
        "import math\n",
        "import matplotlib.pyplot as plt\n",
        "import keras\n",
        "import pandas as pd\n",
        "import numpy as np\n",
        "from keras.models import Sequential\n",
        "from keras.layers import Dense\n",
        "from keras.layers import LSTM\n",
        "from keras.layers import Dropout\n",
        "from keras.layers import *\n",
        "from sklearn.preprocessing import MinMaxScaler\n",
        "from sklearn.metrics import mean_squared_error\n",
        "from sklearn.metrics import mean_absolute_error\n",
        "from sklearn.model_selection import train_test_split\n",
        "from keras.callbacks import EarlyStopping"
      ],
      "execution_count": null,
      "outputs": [
        {
          "output_type": "stream",
          "text": [
            "Using TensorFlow backend.\n"
          ],
          "name": "stderr"
        }
      ]
    },
    {
      "cell_type": "code",
      "metadata": {
        "id": "eCTD6dF1Q327",
        "colab_type": "code",
        "colab": {
          "base_uri": "https://localhost:8080/",
          "height": 238
        },
        "outputId": "384b82ab-1e98-41c1-b746-d69915bb48c1"
      },
      "source": [
        "df_exe=pd.read_excel(\"US30_tiny.xlsx\")\n",
        "print(df_exe.shape)\n",
        "df_exe.head(5)"
      ],
      "execution_count": null,
      "outputs": [
        {
          "output_type": "stream",
          "text": [
            "(10004, 6)\n"
          ],
          "name": "stdout"
        },
        {
          "output_type": "execute_result",
          "data": {
            "text/html": [
              "<div>\n",
              "<style scoped>\n",
              "    .dataframe tbody tr th:only-of-type {\n",
              "        vertical-align: middle;\n",
              "    }\n",
              "\n",
              "    .dataframe tbody tr th {\n",
              "        vertical-align: top;\n",
              "    }\n",
              "\n",
              "    .dataframe thead th {\n",
              "        text-align: right;\n",
              "    }\n",
              "</style>\n",
              "<table border=\"1\" class=\"dataframe\">\n",
              "  <thead>\n",
              "    <tr style=\"text-align: right;\">\n",
              "      <th></th>\n",
              "      <th>Date/Time</th>\n",
              "      <th>Open</th>\n",
              "      <th>Close</th>\n",
              "      <th>High</th>\n",
              "      <th>Low</th>\n",
              "      <th>Volume</th>\n",
              "    </tr>\n",
              "  </thead>\n",
              "  <tbody>\n",
              "    <tr>\n",
              "      <th>0</th>\n",
              "      <td>06.10.2019 07:20:00.000 GMT+0100</td>\n",
              "      <td>26557.169</td>\n",
              "      <td>26557.169</td>\n",
              "      <td>26557.169</td>\n",
              "      <td>26557.169</td>\n",
              "      <td>0.0</td>\n",
              "    </tr>\n",
              "    <tr>\n",
              "      <th>1</th>\n",
              "      <td>06.10.2019 07:25:00.000 GMT+0100</td>\n",
              "      <td>26557.169</td>\n",
              "      <td>26557.169</td>\n",
              "      <td>26557.169</td>\n",
              "      <td>26557.169</td>\n",
              "      <td>0.0</td>\n",
              "    </tr>\n",
              "    <tr>\n",
              "      <th>2</th>\n",
              "      <td>06.10.2019 07:30:00.000 GMT+0100</td>\n",
              "      <td>26557.169</td>\n",
              "      <td>26557.169</td>\n",
              "      <td>26557.169</td>\n",
              "      <td>26557.169</td>\n",
              "      <td>0.0</td>\n",
              "    </tr>\n",
              "    <tr>\n",
              "      <th>3</th>\n",
              "      <td>06.10.2019 07:35:00.000 GMT+0100</td>\n",
              "      <td>26557.169</td>\n",
              "      <td>26557.169</td>\n",
              "      <td>26557.169</td>\n",
              "      <td>26557.169</td>\n",
              "      <td>0.0</td>\n",
              "    </tr>\n",
              "    <tr>\n",
              "      <th>4</th>\n",
              "      <td>06.10.2019 07:40:00.000 GMT+0100</td>\n",
              "      <td>26557.169</td>\n",
              "      <td>26557.169</td>\n",
              "      <td>26557.169</td>\n",
              "      <td>26557.169</td>\n",
              "      <td>0.0</td>\n",
              "    </tr>\n",
              "  </tbody>\n",
              "</table>\n",
              "</div>"
            ],
            "text/plain": [
              "                          Date/Time       Open  ...        Low  Volume\n",
              "0  06.10.2019 07:20:00.000 GMT+0100  26557.169  ...  26557.169     0.0\n",
              "1  06.10.2019 07:25:00.000 GMT+0100  26557.169  ...  26557.169     0.0\n",
              "2  06.10.2019 07:30:00.000 GMT+0100  26557.169  ...  26557.169     0.0\n",
              "3  06.10.2019 07:35:00.000 GMT+0100  26557.169  ...  26557.169     0.0\n",
              "4  06.10.2019 07:40:00.000 GMT+0100  26557.169  ...  26557.169     0.0\n",
              "\n",
              "[5 rows x 6 columns]"
            ]
          },
          "metadata": {
            "tags": []
          },
          "execution_count": 16
        }
      ]
    },
    {
      "cell_type": "code",
      "metadata": {
        "id": "To0hMSbFSKW2",
        "colab_type": "code",
        "colab": {}
      },
      "source": [
        "training_set = df_exe.iloc[1:8000]\n",
        "test_set = df_exe.iloc[8001:]\n",
        "A1=np.array(training_set['Open'])"
      ],
      "execution_count": null,
      "outputs": []
    },
    {
      "cell_type": "code",
      "metadata": {
        "id": "xkZUmBjwW9Eb",
        "colab_type": "code",
        "colab": {}
      },
      "source": [
        "\"\"\"#Visualize the closing price history\n",
        "plt.figure(figsize=(16,8))\n",
        "pp=pd.read_excel('US30_tiny.xlsx', header=0, index_col=0, squeeze=True)\n",
        "plt.title('Close Price History')\n",
        "plt.xlabel('',fontsize=18)\n",
        "plt.ylabel('Close Price USD ($)',fontsize=18)\n",
        "plt.plot(pp)\"\"\""
      ],
      "execution_count": null,
      "outputs": []
    },
    {
      "cell_type": "code",
      "metadata": {
        "id": "3ZVXA4-GdQBv",
        "colab_type": "code",
        "colab": {}
      },
      "source": [
        ""
      ],
      "execution_count": null,
      "outputs": []
    }
  ]
}